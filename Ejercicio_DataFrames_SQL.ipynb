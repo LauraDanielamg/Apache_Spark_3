{
 "cells": [
  {
   "cell_type": "markdown",
   "id": "e2c6ce4e",
   "metadata": {},
   "source": [
    "# Ejercicio aplicado de DataFrames y Spark SQL"
   ]
  },
  {
   "cell_type": "markdown",
   "id": "cecf9cdc",
   "metadata": {},
   "source": [
    "En este caso, trabajaremos con el archivo `data/WorldCupPlayers.csv`para convertirlo en un DataFrame de Spark y hacer algunas exploraciones básicas."
   ]
  },
  {
   "cell_type": "code",
   "execution_count": 1,
   "id": "95a7eab7",
   "metadata": {},
   "outputs": [],
   "source": [
    "import findspark\n",
    "findspark.init()\n",
    "\n",
    "import pandas as pd\n",
    "import pyspark\n",
    "import pyspark.sql.functions as F"
   ]
  },
  {
   "cell_type": "code",
   "execution_count": 2,
   "id": "2a099cd1",
   "metadata": {},
   "outputs": [],
   "source": [
    "from pyspark.sql import SparkSession\n",
    "\n",
    "spark = SparkSession.builder\\\n",
    "        .master(\"local[*]\")\\\n",
    "        .appName('PySpark_Df')\\\n",
    "        .getOrCreate()"
   ]
  },
  {
   "cell_type": "code",
   "execution_count": 3,
   "id": "652d0228",
   "metadata": {},
   "outputs": [
    {
     "name": "stdout",
     "output_type": "stream",
     "text": [
      "+-------+-------+-------------+--------------------+-------+------------+--------------------+--------+---------+\n",
      "|RoundID|MatchID|Team Initials|          Coach Name|Line-up|Shirt Number|         Player Name|Position|    Event|\n",
      "+-------+-------+-------------+--------------------+-------+------------+--------------------+--------+---------+\n",
      "|    201|   1096|          FRA| CAUDRON Raoul (FRA)|      S|           0|         Alex THEPOT|      GK|     null|\n",
      "|    201|   1096|          MEX|    LUQUE Juan (MEX)|      S|           0|     Oscar BONFIGLIO|      GK|     null|\n",
      "|    201|   1096|          FRA| CAUDRON Raoul (FRA)|      S|           0|    Marcel LANGILLER|    null|     G40'|\n",
      "|    201|   1096|          MEX|    LUQUE Juan (MEX)|      S|           0|        Juan CARRENO|    null|     G70'|\n",
      "|    201|   1096|          FRA| CAUDRON Raoul (FRA)|      S|           0|     Ernest LIBERATI|    null|     null|\n",
      "|    201|   1096|          MEX|    LUQUE Juan (MEX)|      S|           0|        Rafael GARZA|       C|     null|\n",
      "|    201|   1096|          FRA| CAUDRON Raoul (FRA)|      S|           0|     Andre MASCHINOT|    null|G43' G87'|\n",
      "|    201|   1096|          MEX|    LUQUE Juan (MEX)|      S|           0|       Hilario LOPEZ|    null|     null|\n",
      "|    201|   1096|          FRA| CAUDRON Raoul (FRA)|      S|           0|     Etienne MATTLER|    null|     null|\n",
      "|    201|   1096|          MEX|    LUQUE Juan (MEX)|      S|           0|      Dionisio MEJIA|    null|     null|\n",
      "|    201|   1096|          FRA| CAUDRON Raoul (FRA)|      S|           0|        Marcel PINEL|    null|     null|\n",
      "|    201|   1096|          MEX|    LUQUE Juan (MEX)|      S|           0|        Felipe ROSAS|    null|     null|\n",
      "|    201|   1096|          FRA| CAUDRON Raoul (FRA)|      S|           0|     Alex VILLAPLANE|       C|     null|\n",
      "|    201|   1096|          MEX|    LUQUE Juan (MEX)|      S|           0|        Manuel ROSAS|    null|     null|\n",
      "|    201|   1096|          FRA| CAUDRON Raoul (FRA)|      S|           0|      Lucien LAURENT|    null|     G19'|\n",
      "|    201|   1096|          MEX|    LUQUE Juan (MEX)|      S|           0|           Jose RUIZ|    null|     null|\n",
      "|    201|   1096|          FRA| CAUDRON Raoul (FRA)|      S|           0|      Marcel CAPELLE|    null|     null|\n",
      "|    201|   1096|          MEX|    LUQUE Juan (MEX)|      S|           0|     Alfredo SANCHEZ|    null|     null|\n",
      "|    201|   1096|          FRA| CAUDRON Raoul (FRA)|      S|           0|   Augustin CHANTREL|    null|     null|\n",
      "|    201|   1096|          MEX|    LUQUE Juan (MEX)|      S|           0|      Efrain AMEZCUA|    null|     null|\n",
      "|    201|   1096|          FRA| CAUDRON Raoul (FRA)|      S|           0|      Edmond DELFOUR|    null|     null|\n",
      "|    201|   1096|          MEX|    LUQUE Juan (MEX)|      S|           0|          Luis PEREZ|    null|     null|\n",
      "|    201|   1096|          FRA| CAUDRON Raoul (FRA)|      N|           0|     Celestin DELMER|    null|     null|\n",
      "|    201|   1096|          MEX|    LUQUE Juan (MEX)|      N|           0|        Isidoro SOTA|    null|     null|\n",
      "|    201|   1096|          FRA| CAUDRON Raoul (FRA)|      N|           0|        Andre TASSIN|    null|     null|\n",
      "|    201|   1096|          MEX|    LUQUE Juan (MEX)|      N|           0|        Jesus CASTRO|    null|     null|\n",
      "|    201|   1096|          FRA| CAUDRON Raoul (FRA)|      N|           0|       Nouma ANDOIRE|    null|     null|\n",
      "|    201|   1096|          MEX|    LUQUE Juan (MEX)|      N|           0|     Felipe OLIVARES|    null|     null|\n",
      "|    201|   1096|          FRA| CAUDRON Raoul (FRA)|      N|           0|        Jean LAURENT|    null|     null|\n",
      "|    201|   1096|          MEX|    LUQUE Juan (MEX)|      N|           0|  Raimundo RODRIGUEZ|    null|     null|\n",
      "|    201|   1096|          FRA| CAUDRON Raoul (FRA)|      N|           0|      Emile VEINANTE|    null|     null|\n",
      "|    201|   1096|          MEX|    LUQUE Juan (MEX)|      N|           0|       Roberto GAYON|    null|     null|\n",
      "|    201|   1096|          MEX|    LUQUE Juan (MEX)|      N|           0|Francisco GARZA G...|    null|     null|\n",
      "|    201|   1090|          USA|    MILLAR Bob (USA)|      S|           0|       Jimmy DOUGLAS|      GK|     null|\n",
      "|    201|   1090|          BEL|GOETINCK Hector (...|      S|           0|       Arnold BADJOU|      GK|     null|\n",
      "|    201|   1090|          USA|    MILLAR Bob (USA)|      S|           0|          Tom FLORIE|       C|     G45'|\n",
      "|    201|   1090|          BEL|GOETINCK Hector (...|      S|           0|       Jean DE CLERQ|    null|     null|\n",
      "|    201|   1090|          USA|    MILLAR Bob (USA)|      S|           0|     Jimmy GALLAGHER|    null|     null|\n",
      "|    201|   1090|          BEL|GOETINCK Hector (...|      S|           0|         Jan DIDDENS|    null|     null|\n",
      "|    201|   1090|          USA|    MILLAR Bob (USA)|      S|           0|     Billy GONSALVES|    null|     null|\n",
      "|    201|   1090|          BEL|GOETINCK Hector (...|      S|           0|   Auguste HELLEMANS|    null|     null|\n",
      "|    201|   1090|          USA|    MILLAR Bob (USA)|      S|           0|         Bart McGHEE|    null|     G23'|\n",
      "|    201|   1090|          BEL|GOETINCK Hector (...|      S|           0|  Nikolaas HOYDONCKX|    null|     null|\n",
      "|    201|   1090|          USA|    MILLAR Bob (USA)|      S|           0|    George MOORHOUSE|    null|     null|\n",
      "|    201|   1090|          BEL|GOETINCK Hector (...|      S|           0|    Jacques MOESCHAL|    null|     null|\n",
      "|    201|   1090|          USA|    MILLAR Bob (USA)|      S|           0|      Bert PATENAUDE|    null|     G69'|\n",
      "|    201|   1090|          BEL|GOETINCK Hector (...|      S|           0|    Theodore NOUWENS|    null|     null|\n",
      "|    201|   1090|          USA|    MILLAR Bob (USA)|      S|           0|         Ralph TRACY|    null|     null|\n",
      "|    201|   1090|          BEL|GOETINCK Hector (...|      S|           0|       Fernand ADAMS|    null|     null|\n",
      "|    201|   1090|          USA|    MILLAR Bob (USA)|      S|           0|      Alexander WOOD|    null|     null|\n",
      "|    201|   1090|          BEL|GOETINCK Hector (...|      S|           0|        Louis VERSYP|    null|     null|\n",
      "|    201|   1090|          USA|    MILLAR Bob (USA)|      S|           0|         Andrew AULD|    null|     null|\n",
      "|    201|   1090|          BEL|GOETINCK Hector (...|      S|           0|    Bernard VOORHOOF|    null|     null|\n",
      "|    201|   1090|          USA|    MILLAR Bob (USA)|      S|           0|           Jim BROWN|    null|     null|\n",
      "|    201|   1090|          BEL|GOETINCK Hector (...|      S|           0|       Pierre BRAINE|       C|     null|\n",
      "|    201|   1090|          USA|    MILLAR Bob (USA)|      N|           0|        Frank VAUGHN|    null|     null|\n",
      "|    201|   1090|          BEL|GOETINCK Hector (...|      N|           0|   Alexis CHANTRAINE|    null|     null|\n",
      "|    201|   1090|          USA|    MILLAR Bob (USA)|      N|           0|         Mike BOOKIE|    null|     null|\n",
      "|    201|   1090|          BEL|GOETINCK Hector (...|      N|           0|         Jean DE BIE|    null|     null|\n",
      "|    201|   1090|          USA|    MILLAR Bob (USA)|      N|           0|          Jim GENTLE|    null|     null|\n",
      "|    201|   1090|          BEL|GOETINCK Hector (...|      N|           0|         Andre SAEYS|    null|     null|\n",
      "|    201|   1090|          USA|    MILLAR Bob (USA)|      N|           0|          Phil SLONE|    null|     null|\n",
      "|    201|   1090|          BEL|GOETINCK Hector (...|      N|           0|      Henri DE DEKEN|    null|     null|\n",
      "|    201|   1090|          USA|    MILLAR Bob (USA)|      N|           0|        Arnie OLIVER|    null|     null|\n",
      "|    201|   1090|          BEL|GOETINCK Hector (...|      N|           0|      Gerard DELBEKE|    null|     null|\n",
      "|    201|   1093|          YUG|SIMONOVIC Bosko (...|      S|           0|      Milovan JAKSIC|      GK|     null|\n",
      "|    201|   1093|          BRA|DE CARVALHO Pinda...|      S|           0|                JOEL|      GK|     null|\n",
      "|    201|   1093|          YUG|SIMONOVIC Bosko (...|      S|           0|  Blagoje MARJANOVIC|    null|     null|\n",
      "|    201|   1093|          BRA|DE CARVALHO Pinda...|      S|           0|            TEOPHILO|    null|     null|\n",
      "|    201|   1093|          YUG|SIMONOVIC Bosko (...|      S|           0|   Dragan MIHAJLOVIC|    null|     null|\n",
      "|    201|   1093|          BRA|DE CARVALHO Pinda...|      S|           0|                POLY|    null|     null|\n",
      "|    201|   1093|          YUG|SIMONOVIC Bosko (...|      S|           0| Milorad ARSENIJEVIC|    null|     null|\n",
      "|    201|   1093|          BRA|DE CARVALHO Pinda...|      S|           0|              FAUSTO|    null|     null|\n",
      "|    201|   1093|          YUG|SIMONOVIC Bosko (...|      S|           0|           Ivica BEK|    null|     G30'|\n",
      "|    201|   1093|          BRA|DE CARVALHO Pinda...|      S|           0|           PREGUINHO|       C|     G62'|\n",
      "|    201|   1093|          YUG|SIMONOVIC Bosko (...|      S|           0|      Momcilo DJOKIC|    null|     null|\n",
      "|    201|   1093|          BRA|DE CARVALHO Pinda...|      S|           0|                NILO|    null|     null|\n",
      "|    201|   1093|          YUG|SIMONOVIC Bosko (...|      S|           0|     Milutin IVKOVIC|       C|     null|\n",
      "|    201|   1093|          BRA|DE CARVALHO Pinda...|      S|           0|           BRILHANTE|    null|     null|\n",
      "|    201|   1093|          YUG|SIMONOVIC Bosko (...|      S|           0| Djordje VUJADINOVIC|    null|     null|\n",
      "|    201|   1093|          BRA|DE CARVALHO Pinda...|      S|           0|              ARAKEN|    null|     null|\n",
      "|    201|   1093|          YUG|SIMONOVIC Bosko (...|      S|           0| Aleksandar TIRNANIC|    null|     G21'|\n",
      "|    201|   1093|          BRA|DE CARVALHO Pinda...|      S|           0|          HERMOGENES|    null|     null|\n",
      "|    201|   1093|          YUG|SIMONOVIC Bosko (...|      S|           0|   Branislav SEKULIC|    null|     null|\n",
      "|    201|   1093|          BRA|DE CARVALHO Pinda...|      S|           0|              ITALIA|    null|     null|\n",
      "|    201|   1093|          YUG|SIMONOVIC Bosko (...|      S|           0|  Ljubisa STEFANOVIC|    null|     null|\n",
      "|    201|   1093|          BRA|DE CARVALHO Pinda...|      S|           0| FERNANDO GIUDICELLI|    null|     null|\n",
      "|    201|   1093|          YUG|SIMONOVIC Bosko (...|      N|           0|        Dragan TOSIC|    null|     null|\n",
      "|    201|   1093|          BRA|DE CARVALHO Pinda...|      N|           0|      CARVALHO LEITE|    null|     null|\n",
      "|    201|   1093|          YUG|SIMONOVIC Bosko (...|      N|           0|    Milan STOJANOVIC|    null|     null|\n",
      "|    201|   1093|          BRA|DE CARVALHO Pinda...|      N|           0|           BENEDICTO|    null|     null|\n",
      "|    201|   1093|          YUG|SIMONOVIC Bosko (...|      N|           0|  Teofilo SPASOJEVIC|    null|     null|\n",
      "|    201|   1093|          BRA|DE CARVALHO Pinda...|      N|           0|            OSCARINO|    null|     null|\n",
      "|    201|   1093|          YUG|SIMONOVIC Bosko (...|      N|           0|  Branislav HRNJICEK|    null|     null|\n",
      "|    201|   1093|          BRA|DE CARVALHO Pinda...|      N|           0|          BENVENUTTO|    null|     null|\n",
      "|    201|   1093|          YUG|SIMONOVIC Bosko (...|      N|           0|  Vlastimir PETKOVIC|    null|     null|\n",
      "|    201|   1093|          BRA|DE CARVALHO Pinda...|      N|           0|                DOCA|    null|     null|\n",
      "|    201|   1093|          YUG|SIMONOVIC Bosko (...|      N|           0| Dragutin NAJDANOVIC|    null|     null|\n",
      "|    201|   1093|          BRA|DE CARVALHO Pinda...|      N|           0|            PAMPLONA|    null|     null|\n",
      "|    201|   1093|          BRA|DE CARVALHO Pinda...|      N|           0|              FORTES|    null|     null|\n",
      "+-------+-------+-------------+--------------------+-------+------------+--------------------+--------+---------+\n",
      "only showing top 100 rows\n",
      "\n"
     ]
    }
   ],
   "source": [
    "## Importamos el csv de \"data/WorldCupPlayers.csv\"\n",
    "ruta_csv = \"data/WorldCupPlayers.csv\"\n",
    "df = spark.read.csv(ruta_csv, header=True, inferSchema=True)\n",
    "\n",
    "## Visualizamos los datos\n",
    "df.show(100)"
   ]
  },
  {
   "cell_type": "code",
   "execution_count": 4,
   "id": "74516118",
   "metadata": {},
   "outputs": [
    {
     "name": "stdout",
     "output_type": "stream",
     "text": [
      "root\n",
      " |-- RoundID: integer (nullable = true)\n",
      " |-- MatchID: integer (nullable = true)\n",
      " |-- Team Initials: string (nullable = true)\n",
      " |-- Coach Name: string (nullable = true)\n",
      " |-- Line-up: string (nullable = true)\n",
      " |-- Shirt Number: integer (nullable = true)\n",
      " |-- Player Name: string (nullable = true)\n",
      " |-- Position: string (nullable = true)\n",
      " |-- Event: string (nullable = true)\n",
      "\n"
     ]
    }
   ],
   "source": [
    "# Verificamos que tipo de dato tiene cada variable\n",
    "df.printSchema()"
   ]
  },
  {
   "cell_type": "code",
   "execution_count": 5,
   "id": "58248b51",
   "metadata": {},
   "outputs": [
    {
     "data": {
      "text/plain": [
       "37784"
      ]
     },
     "execution_count": 5,
     "metadata": {},
     "output_type": "execute_result"
    }
   ],
   "source": [
    "# Verificamos número de registros\n",
    "df.count()"
   ]
  },
  {
   "cell_type": "code",
   "execution_count": 6,
   "id": "514be43a",
   "metadata": {},
   "outputs": [
    {
     "name": "stdout",
     "output_type": "stream",
     "text": [
      "+-------+--------+\n",
      "|summary|Position|\n",
      "+-------+--------+\n",
      "|  count|    4143|\n",
      "|   mean|    null|\n",
      "| stddev|    null|\n",
      "|    min|       C|\n",
      "|    max|     GKC|\n",
      "+-------+--------+\n",
      "\n"
     ]
    }
   ],
   "source": [
    "# Obtenemos los principales estadísticos de la columna Position\n",
    "statistics_position = df.describe('Position')\n",
    "statistics_position.show()"
   ]
  },
  {
   "cell_type": "code",
   "execution_count": 7,
   "id": "c2b86748",
   "metadata": {},
   "outputs": [
    {
     "name": "stdout",
     "output_type": "stream",
     "text": [
      "+--------------------+--------------------+\n",
      "|         Player Name|          Coach Name|\n",
      "+--------------------+--------------------+\n",
      "|    Arturo FERNANDEZ| BRU Francisco (ESP)|\n",
      "|Cayetano CARRERAS...|DURAND LAGUNA Jos...|\n",
      "|  Ernesto MASCHERONI|SUPPICI Alberto (...|\n",
      "|          Aziz FAHMY|   McREA James (SCO)|\n",
      "|        Gyula POLGAR|    NADAS Odon (HUN)|\n",
      "|  Ernesto ALBARRACIN|PASCUCCI Felipe (...|\n",
      "| Armando CASTELLAZZI|POZZO Vittorio (ITA)|\n",
      "|     Jaroslav BOUCEK|   PETRU Karel (TCH)|\n",
      "|           Erwin NYC|  KALUZA Jozef (POL)|\n",
      "|     Stanislaw BARAN|  KALUZA Jozef (POL)|\n",
      "|     Fernando ROLDAN|BUCCIARDI Arturo ...|\n",
      "|            Joe MACA|  JEFFREY Bill (SCO)|\n",
      "|               INDIO|  MOREIRA Zeze (BRA)|\n",
      "|      Rene DEREUDDRE|PIBAROT Pierre (FRA)|\n",
      "|    Anton MALATINSKY|    CEJP Josef (TCH)|\n",
      "|    Alberto MARIOTTI|LORENZO Juan Carl...|\n",
      "|  Alfredo DI STEFANO|HERRERA Helenio (...|\n",
      "|             FIDELIS| FEOLA Vicente (BRA)|\n",
      "|     Stoyan YORDANOV|BOZHKOV Stefan (BUL)|\n",
      "|      Wim RIJSBERGEN| MICHELS Rinus (NED)|\n",
      "+--------------------+--------------------+\n",
      "only showing top 20 rows\n",
      "\n"
     ]
    }
   ],
   "source": [
    "# Seleccionamos y mostramos los registros distintos de 'Player Name','Coach Name'\n",
    "distinct_player_coach_name = df.select('Player Name', 'Coach Name').distinct()\n",
    "\n",
    "distinct_player_coach_name.show()"
   ]
  },
  {
   "cell_type": "code",
   "execution_count": null,
   "id": "74d787f0",
   "metadata": {},
   "outputs": [],
   "source": [
    "# ¿Cuantos partidos con el ID de 1096 ha habido?\n",
    "df.filter(df['MatchID'] == 1096).count()"
   ]
  },
  {
   "cell_type": "code",
   "execution_count": null,
   "id": "a4d33331",
   "metadata": {},
   "outputs": [],
   "source": [
    "# Muestra los datos donde la posicion haya sido C y el evento sea G40\n",
    "filtered_df=df.filter((df['Position'] == \"C\") & (df['Event'] == \"G40'\")) \n",
    "\n",
    "filtered_df.show()\n"
   ]
  },
  {
   "cell_type": "code",
   "execution_count": null,
   "id": "fa84761c",
   "metadata": {},
   "outputs": [],
   "source": [
    "# Utiliza Spark SQL para mostrar los registros donde el MatchID sea mayor o igual a 20\n",
    "\n",
    "df.createOrReplaceTempView(\"world_cup_players\")\n",
    "consulta_sql = \"SELECT * FROM world_cup_players WHERE MatchID >= 20\"\n",
    "resultados = spark.sql(consulta_sql)\n",
    "resultados.show()"
   ]
  },
  {
   "cell_type": "code",
   "execution_count": null,
   "id": "3150266d",
   "metadata": {},
   "outputs": [],
   "source": []
  }
 ],
 "metadata": {
  "kernelspec": {
   "display_name": "Python 3 (ipykernel)",
   "language": "python",
   "name": "python3"
  },
  "language_info": {
   "codemirror_mode": {
    "name": "ipython",
    "version": 3
   },
   "file_extension": ".py",
   "mimetype": "text/x-python",
   "name": "python",
   "nbconvert_exporter": "python",
   "pygments_lexer": "ipython3",
   "version": "3.11.4"
  }
 },
 "nbformat": 4,
 "nbformat_minor": 5
}
