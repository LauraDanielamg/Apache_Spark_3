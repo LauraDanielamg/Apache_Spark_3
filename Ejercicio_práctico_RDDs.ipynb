{
 "cells": [
  {
   "cell_type": "markdown",
   "id": "22bc4d93",
   "metadata": {},
   "source": [
    "# Ejercicio Práctico RDDs"
   ]
  },
  {
   "cell_type": "markdown",
   "id": "70e0806b",
   "metadata": {},
   "source": [
    "## ¿Qué es un RDD? \n",
    "Un RDD (Resilient Distributed Dataset) es la abstracción básica en Spark. Representa una colección inmutable y particionada de elementos que pueden ser operados en paralelo\n",
    "\n",
    "A continuación mostraremos como se definen y algunas formas de manipularlo. "
   ]
  },
  {
   "cell_type": "code",
   "execution_count": 1,
   "id": "c1a214d6",
   "metadata": {},
   "outputs": [],
   "source": [
    "import findspark\n",
    "findspark.init()\n",
    "\n",
    "import pandas as pd\n",
    "import pyspark\n",
    "from pyspark.sql import SparkSession"
   ]
  },
  {
   "cell_type": "code",
   "execution_count": 2,
   "id": "bd8b0d7c",
   "metadata": {},
   "outputs": [],
   "source": [
    "spark = SparkSession.builder.getOrCreate()\n",
    "sc = spark.sparkContext"
   ]
  },
  {
   "cell_type": "markdown",
   "id": "c1c9babf",
   "metadata": {},
   "source": [
    "Las colecciones paralelas se crean llamando al método de paralelización de SparkContext en un iterable o colección existente en su programa controlador. Generamos un RDD llamado newRDD con la siguiente lista [1, 2, 3, 4, 5]\n"
   ]
  },
  {
   "cell_type": "code",
   "execution_count": 3,
   "id": "1479e36b",
   "metadata": {},
   "outputs": [
    {
     "data": {
      "text/plain": [
       "[1, 2, 3, 4, 5]"
      ]
     },
     "execution_count": 3,
     "metadata": {},
     "output_type": "execute_result"
    }
   ],
   "source": [
    "num = [1, 2, 3, 4, 5]\n",
    "newRDD = sc.parallelize(num)\n",
    "newRDD.collect()"
   ]
  },
  {
   "cell_type": "markdown",
   "id": "641c006d",
   "metadata": {},
   "source": [
    "Existen varias funciones que pondemos utilizar sobre un RDD para manipular los datos, como **map**, **filter**, **distinct**... \n",
    "\n",
    "A continuación algunos ejemplos relevantes:"
   ]
  },
  {
   "cell_type": "code",
   "execution_count": 4,
   "id": "9bc25ae9",
   "metadata": {},
   "outputs": [
    {
     "data": {
      "text/plain": [
       "[2, 4, 6, 8, 10]"
      ]
     },
     "execution_count": 4,
     "metadata": {},
     "output_type": "execute_result"
    }
   ],
   "source": [
    "#Aplicamos map para multiplicar los elementos del RDD por 2.\n",
    "\n",
    "double_rdd = newRDD.map(lambda x: x * 2)\n",
    "double_rdd.collect()"
   ]
  },
  {
   "cell_type": "code",
   "execution_count": 5,
   "id": "a047081a",
   "metadata": {},
   "outputs": [
    {
     "data": {
      "text/plain": [
       "[2, 4, 6]"
      ]
     },
     "execution_count": 5,
     "metadata": {},
     "output_type": "execute_result"
    }
   ],
   "source": [
    "#Creamos un nuevo RDD\n",
    "\n",
    "data= [1, 2, 3, 4, 5, 6]\n",
    "\n",
    "myRDD= sc.parallelize(data)\n",
    "\n",
    "## Filtramos  por los elementos pares\n",
    "filtered_rdd = myRDD.filter(lambda x: x % 2 == 0)\n",
    "\n",
    "filtered_rdd.collect()\n"
   ]
  },
  {
   "cell_type": "code",
   "execution_count": 6,
   "id": "aeb368f0",
   "metadata": {},
   "outputs": [
    {
     "data": {
      "text/plain": [
       "[1, 2, 3, 4, 5, 6]"
      ]
     },
     "execution_count": 6,
     "metadata": {},
     "output_type": "execute_result"
    }
   ],
   "source": [
    "## Muestra los elementos unicos del RDD\n",
    "unique_val_rdd = myRDD.distinct()\n",
    "unique_val_rdd.collect()"
   ]
  },
  {
   "cell_type": "code",
   "execution_count": 7,
   "id": "787c7986",
   "metadata": {},
   "outputs": [
    {
     "name": "stdout",
     "output_type": "stream",
     "text": [
      "Resultado usando lambdas:\n"
     ]
    },
    {
     "data": {
      "text/plain": [
       "[('b', 1), ('a', 6)]"
      ]
     },
     "execution_count": 7,
     "metadata": {},
     "output_type": "execute_result"
    }
   ],
   "source": [
    "myRDD = sc.parallelize([('a', 1), ('a', 2), ('a', 3), ('b', 1)])\n",
    "\n",
    "## Obten la suma de los valores agrupados por el key\n",
    "\n",
    "sum_by_key = myRDD.reduceByKey(lambda x ,y: x + y)\n",
    "\n",
    "print(\"Resultado usando lambdas:\")\n",
    "sum_by_key.collect()"
   ]
  },
  {
   "cell_type": "code",
   "execution_count": 8,
   "id": "0dee961e",
   "metadata": {},
   "outputs": [
    {
     "name": "stdout",
     "output_type": "stream",
     "text": [
      "Resultado usando add:\n"
     ]
    },
    {
     "data": {
      "text/plain": [
       "[('b', 1), ('a', 6)]"
      ]
     },
     "execution_count": 8,
     "metadata": {},
     "output_type": "execute_result"
    }
   ],
   "source": [
    "#Lo mismo pero usando add\n",
    "from operator import add\n",
    "add_by_key = myRDD.reduceByKey(add)\n",
    "print(\"Resultado usando add:\")\n",
    "add_by_key.collect()\n"
   ]
  },
  {
   "cell_type": "code",
   "execution_count": 9,
   "id": "5133d6f2",
   "metadata": {},
   "outputs": [
    {
     "name": "stdout",
     "output_type": "stream",
     "text": [
      "Clave: b, Valor:[1]\n",
      "Clave: a, Valor:[1, 2, 3]\n"
     ]
    }
   ],
   "source": [
    "## Ordena los RDDs en base al key\n",
    "by_key = myRDD.groupByKey()\n",
    "\n",
    "for key, value in by_key.collect():\n",
    "    print(f\"Clave: {key}, Valor:{list(value)}\")"
   ]
  },
  {
   "cell_type": "code",
   "execution_count": 10,
   "id": "bfe2d705",
   "metadata": {},
   "outputs": [
    {
     "name": "stdout",
     "output_type": "stream",
     "text": [
      "The result is:  120\n"
     ]
    }
   ],
   "source": [
    "data= [1, 2, 3, 4, 5]\n",
    "\n",
    "myRDD= sc.parallelize(data)\n",
    "## Toma los elementos del RDD para multiplicarlos entre si y obtener un resultado\n",
    "\n",
    "result = myRDD.reduce(lambda x, y: x * y)\n",
    "\n",
    "print(\"The result is: \", result)"
   ]
  },
  {
   "cell_type": "code",
   "execution_count": 11,
   "id": "b6139be0",
   "metadata": {},
   "outputs": [
    {
     "name": "stdout",
     "output_type": "stream",
     "text": [
      "defaultdict(<class 'int'>, {'Python': 3, 'Scala': 1, 'R': 2, 'Java': 1})\n"
     ]
    }
   ],
   "source": [
    "data= ['Python', 'Scala', 'Python', 'R', 'Python', 'Java', 'R' ]\n",
    "\n",
    "myRDD= sc.parallelize(data)\n",
    "\n",
    "## Cuenta cuantas veces aparece cada valor\n",
    "\n",
    "count_by_value = myRDD.countByValue() \n",
    "\n",
    "print(count_by_value)"
   ]
  },
  {
   "cell_type": "code",
   "execution_count": 12,
   "id": "633f7716",
   "metadata": {},
   "outputs": [
    {
     "name": "stdout",
     "output_type": "stream",
     "text": [
      "The letter a appears 2 times\n",
      "The letter b appears 1 times\n",
      "The letter c appears 1 times\n"
     ]
    }
   ],
   "source": [
    "data= [('a', 1), ('b', 1), ('c', 1), ('a', 1)]\n",
    "myRDD = sc.parallelize(data)\n",
    "\n",
    "## Cuenta cuantas veces aparece cada una de las keys\n",
    "keys = myRDD.map(lambda x: x[0])\n",
    "\n",
    "count = keys.countByValue()\n",
    "\n",
    "for key, value in count.items():\n",
    "    print(f\"The letter {key} appears {value} times\")"
   ]
  }
 ],
 "metadata": {
  "kernelspec": {
   "display_name": "Python 3 (ipykernel)",
   "language": "python",
   "name": "python3"
  },
  "language_info": {
   "codemirror_mode": {
    "name": "ipython",
    "version": 3
   },
   "file_extension": ".py",
   "mimetype": "text/x-python",
   "name": "python",
   "nbconvert_exporter": "python",
   "pygments_lexer": "ipython3",
   "version": "3.11.4"
  }
 },
 "nbformat": 4,
 "nbformat_minor": 5
}
